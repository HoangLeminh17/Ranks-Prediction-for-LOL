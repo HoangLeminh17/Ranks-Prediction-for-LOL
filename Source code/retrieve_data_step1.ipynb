{
 "cells": [
  {
   "cell_type": "markdown",
   "metadata": {},
   "source": [
    "Lấy SummonerID"
   ]
  },
  {
   "cell_type": "code",
   "execution_count": 5,
   "metadata": {},
   "outputs": [],
   "source": [
    "import time\n",
    "import requests\n",
    "api_key = 'RGAPI-415a160c-532f-41e2-9a53-78299b01cb10'\n"
   ]
  },
  {
   "cell_type": "code",
   "execution_count": null,
   "metadata": {},
   "outputs": [],
   "source": [
    "\n",
    "rank = 'CHALLENGER'\n",
    "url = f\"https://vn2.api.riotgames.com/lol/league-exp/v4/entries/RANKED_SOLO_5x5/{rank}/I?page=1&api_key={api_key}\"\n",
    "response = requests.get(url)\n",
    "if response.status_code == 200:\n",
    "    data = response.json()\n",
    "    if data:\n",
    "        for summoner in data:\n",
    "            summonerID = summoner.get(\"summonerId\")\n",
    "            with open (\"ChallengerSummonerID.txt\", \"a+\") as file:\n",
    "                file.write(summonerID + \"\\n\")\n",
    "else:\n",
    "    print(\"Failed to retrieve. Status Code:\", response.status_code)"
   ]
  },
  {
   "cell_type": "markdown",
   "metadata": {},
   "source": [
    "Lấy PUUID"
   ]
  },
  {
   "cell_type": "code",
   "execution_count": null,
   "metadata": {},
   "outputs": [],
   "source": [
    "file_path = 'ChallengerSummonerID.txt'\n",
    "with open(file_path, 'r') as file:\n",
    "    for line in file:\n",
    "        summoner_ID = line.strip()\n",
    "        url1 = f\"https://vn2.api.riotgames.com/lol/summoner/v4/summoners/{summoner_ID}?api_key={api_key}\"\n",
    "        response = requests.get(url1)\n",
    "        if response.status_code == 200:\n",
    "            data = response.json()\n",
    "            player_puuid = data.get('puuid')\n",
    "            with open('ChallengerPlayerPUUID.txt', 'a+') as file:\n",
    "                file.write(player_puuid + \"\\n\")\n",
    "        else:\n",
    "            print(\"Failed to retrieve. Status Code:\", response.status_code)\n"
   ]
  },
  {
   "cell_type": "markdown",
   "metadata": {},
   "source": [
    "Lấy MatchID"
   ]
  },
  {
   "cell_type": "code",
   "execution_count": null,
   "metadata": {},
   "outputs": [],
   "source": [
    "file_path1 = 'ChallengerPlayerPUUID.txt'\n",
    "with open(file_path1, 'r') as file:\n",
    "    for line in file:\n",
    "        PUUID = line.strip()\n",
    "        url = f\"https://sea.api.riotgames.com/lol/match/v5/matches/by-puuid/{PUUID}/ids?queue=420&type=ranked&start=0&count=20&api_key={api_key}\"\n",
    "        success = False\n",
    "        while not success:\n",
    "            response = requests.get(url)\n",
    "            if response.status_code == 200:\n",
    "                matchID = response.json()\n",
    "                with open('ChallengerPlayerMatchID.txt', 'a+') as output_file:\n",
    "                    output_file.write(str(matchID) + \"\\n\")\n",
    "                \n",
    "                success = True\n",
    "                time.sleep(6)\n",
    "            else:\n",
    "                print(f\"Failed to retrieve data for PUUID. Status Code: {response.status_code}.\")\n",
    "                time.sleep(5)\n",
    "            "
   ]
  },
  {
   "cell_type": "markdown",
   "metadata": {},
   "source": [
    "Lấy các thông tin từ 1 Match: kills, deaths, assists, kda, total golds, total minions"
   ]
  },
  {
   "cell_type": "code",
   "execution_count": 95,
   "metadata": {},
   "outputs": [],
   "source": [
    "match_id = \"VN2_629235327\"\n",
    "url3 = f'https://sea.api.riotgames.com/lol/match/v5/matches/{match_id}?api_key={api_key}'\n",
    "response3 = requests.get(url3)\n",
    "if response3.status_code == 200:\n",
    "    match_info = response3.json()\n",
    "    participants = match_info['metadata']['participants']\n",
    "    target_string = \"40EdfkFWiwvYDq3hQ-VH2MjJIhdmEYWfuhfm_7MnG6WGxYxagQMGDtNmbO5f7YsLCyKtbaYAdPHfsQ\"\n",
    "    if target_string in participants:\n",
    "        index_of_target = participants.index(target_string)\n",
    "    else:\n",
    "        print(\"Not found\")\n",
    "    participant_info = match_info['info']['participants'][index_of_target]\n",
    "    kills = participant_info['kills']\n",
    "    deaths = participant_info['deaths']\n",
    "    assists = participant_info['assists']\n",
    "    if deaths == 0:\n",
    "        kda = kills + assists \n",
    "    else:\n",
    "        kda = (kills + assists) / deaths\n",
    "    total_gold = participant_info['goldEarned']\n",
    "    total_minion = participant_info['totalMinionsKilled']\n",
    "    with open('PlayerStats.txt', 'a+') as output_file:\n",
    "            output_file.write(f\"Kills: {kills}, Deaths: {deaths}, Assists: {assists}, KDA: {kda}, Gold: {total_gold}, Minions: {total_minion}\\n\")\n",
    "else:\n",
    "    print(\"Failed to retrieve. Status Code:\", response3.status_code)"
   ]
  }
 ],
 "metadata": {
  "kernelspec": {
   "display_name": "base",
   "language": "python",
   "name": "python3"
  },
  "language_info": {
   "codemirror_mode": {
    "name": "ipython",
    "version": 3
   },
   "file_extension": ".py",
   "mimetype": "text/x-python",
   "name": "python",
   "nbconvert_exporter": "python",
   "pygments_lexer": "ipython3",
   "version": "3.12.4"
  }
 },
 "nbformat": 4,
 "nbformat_minor": 2
}
